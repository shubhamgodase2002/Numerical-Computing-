{
 "cells": [
  {
   "cell_type": "markdown",
   "id": "f5774c99",
   "metadata": {},
   "source": [
    "# numerical computing all method code serial wise "
   ]
  },
  {
   "cell_type": "markdown",
   "id": "9cf8a2cd",
   "metadata": {},
   "source": [
    "## 1 biection method"
   ]
  },
  {
   "cell_type": "code",
   "execution_count": 1,
   "id": "e1c7b920",
   "metadata": {},
   "outputs": [
    {
     "name": "stdout",
     "output_type": "stream",
     "text": [
      "enter your value A:2\n",
      "enter your value B:3\n",
      "the value of root: 2.2360687255859375 and,f(c):3.3455435186624527e-06,and it has required iteration:16\n"
     ]
    }
   ],
   "source": [
    "# biection method \n",
    "def f(x):\n",
    "    return x**2-5\n",
    "a=int(input(\"enter your value A:\"))\n",
    "b=int(input(\"enter your value B:\"))\n",
    "iter=0\n",
    "if f(a)*f(b)<0:\n",
    "    while True:\n",
    "        iter +=1\n",
    "        c=((a+b)/2)\n",
    "        if f(a)*f(c)<0:\n",
    "            b=c\n",
    "        else:\n",
    "            a=c\n",
    "        if abs(f(c))<0.00001:\n",
    "            break\n",
    "    print(f\"the value of root: {c} and,f(c):{f(c)},and it has required iteration:{iter}\")   \n",
    "else:\n",
    "    print(\"root not bracted\")"
   ]
  },
  {
   "cell_type": "markdown",
   "id": "ad01513e",
   "metadata": {},
   "source": [
    "## 2 regula falsi method "
   ]
  },
  {
   "cell_type": "code",
   "execution_count": 3,
   "id": "42eb04be",
   "metadata": {},
   "outputs": [
    {
     "name": "stdout",
     "output_type": "stream",
     "text": [
      "enter your value A:2\n",
      "enter your value B:3\n",
      "the value of root: 2.2360676268002506 and,f(c):-1.568375894933638e-06,and it has required iteration:7\n"
     ]
    }
   ],
   "source": [
    "# regula falsi method \n",
    "def f(x):\n",
    "    return x**2-5\n",
    "\n",
    "a=int(input(\"enter your value A:\"))\n",
    "b=int(input(\"enter your value B:\"))\n",
    "iter=0\n",
    "if f(a)*f(b)<0:\n",
    "    while True:\n",
    "        iter +=1\n",
    "        c=((a*f(b)-b*f(a))/(f(b)-f(a)))\n",
    "        if f(a)*f(c)<0:\n",
    "            b=c\n",
    "        else:\n",
    "            a=c\n",
    "        if abs(f(c))<0.00001:\n",
    "            break\n",
    "    print(f\"the value of root: {c} and,f(c):{f(c)},and it has required iteration:{iter}\")   \n",
    "else:\n",
    "    print(\"root not bracted\")"
   ]
  },
  {
   "cell_type": "markdown",
   "id": "03058982",
   "metadata": {},
   "source": [
    "## 3 newtons raphson method "
   ]
  },
  {
   "cell_type": "code",
   "execution_count": 26,
   "id": "1d010ff1",
   "metadata": {},
   "outputs": [
    {
     "name": "stdout",
     "output_type": "stream",
     "text": [
      "Enter your initial value: 2\n",
      "The value of the root: 2.8551965400116908, f(c): 1.3444129365325352e-08, and it required iterations: 5\n"
     ]
    }
   ],
   "source": [
    "#newtons raphson method \n",
    "def f(x):\n",
    "    return x**3 - 5*x - 9\n",
    "def g(x):\n",
    "    return 3*x**2 - 5\n",
    "a = float(input(\"Enter your initial value: \"))\n",
    "iter = 0\n",
    "while True:\n",
    "    iter += 1\n",
    "    c = a - (f(a) / g(a))\n",
    "    # Check if the absolute value of f(c) is less than the tolerance\n",
    "    if abs(f(c)) < 0.00001:\n",
    "        break\n",
    "    # Update the value of 'a' for the next iteration\n",
    "    a = c\n",
    "print(f\"The value of the root: {c}, f(c): {f(c)}, and it required iterations: {iter}\")"
   ]
  },
  {
   "cell_type": "markdown",
   "id": "6cb80b88",
   "metadata": {},
   "source": [
    "## 4 secent method "
   ]
  },
  {
   "cell_type": "code",
   "execution_count": 27,
   "id": "ffa8547b",
   "metadata": {},
   "outputs": [
    {
     "name": "stdout",
     "output_type": "stream",
     "text": [
      "Enter your bracketed root a: 2\n",
      "Enter your bracketed root b: 3\n",
      "Enter the maximum number of iterations: 1000\n",
      "The value of the root: 2.8551962813314287, f(c): -5.01955277520949e-06, and it required iterations: 4\n"
     ]
    }
   ],
   "source": [
    "# secent method \n",
    "def f(x):\n",
    "    return x**3 - 5*x - 9\n",
    "def secant_method(a, b, N):\n",
    "    iter = 0\n",
    "    for i in range(N):\n",
    "        iter += 1\n",
    "        c = b - (b - a) * f(b) / (f(b) - f(a))\n",
    "        if abs(f(c)) < 0.00001:\n",
    "            break\n",
    "        a = b\n",
    "        b = c\n",
    "    return c, iter\n",
    "a = float(input(\"Enter your bracketed root a: \"))\n",
    "b = float(input(\"Enter your bracketed root b: \"))\n",
    "iterations = int(input(\"Enter the maximum number of iterations: \"))\n",
    "result, num_iterations = secant_method(a, b, iterations)\n",
    "print(f\"The value of the root: {result}, f(c): {f(result)}, and it required iterations: {num_iterations}\")\n"
   ]
  },
  {
   "cell_type": "markdown",
   "id": "0adad58e",
   "metadata": {},
   "source": [
    "## 5 iterative root finding method "
   ]
  },
  {
   "cell_type": "code",
   "execution_count": 3,
   "id": "d4dbd794",
   "metadata": {},
   "outputs": [
    {
     "name": "stdout",
     "output_type": "stream",
     "text": [
      "enter your guess number:0\n",
      "enter your tolerance:1\n",
      "enter your no of iteration10\n",
      "the no of steps required-1, the root of equation 1.000000,the value of the root of function 1.000000 \n",
      "equired root is 1.00000000\n",
      "the no of steps required-2, the root of equation 0.707107,the value of the root of function -0.146447 \n",
      "equired root is 0.70710678\n",
      "the no of steps required-3, the root of equation 0.765367,the value of the root of function 0.034128 \n",
      "equired root is 0.76536686\n",
      "the no of steps required-4, the root of equation 0.752632,the value of the root of function -0.007214 \n",
      "equired root is 0.75263171\n",
      "the no of steps required-5, the root of equation 0.755361,the value of the root of function 0.001557 \n",
      "equired root is 0.75536119\n",
      "the no of steps required-6, the root of equation 0.754774,the value of the root of function -0.000335 \n",
      "equired root is 0.75477369\n",
      "the no of steps required-7, the root of equation 0.754900,the value of the root of function 0.000072 \n",
      "equired root is 0.75490003\n",
      "the no of steps required-8, the root of equation 0.754873,the value of the root of function -0.000015 \n",
      "equired root is 0.75487286\n",
      "the no of steps required-9, the root of equation 0.754879,the value of the root of function 0.000003 \n",
      "equired root is 0.75487870\n",
      "the no of steps required-10, the root of equation 0.754877,the value of the root of function -0.000001 \n"
     ]
    }
   ],
   "source": [
    "# 5 iterative root finding method \n",
    "import numpy as np\n",
    "def f(x):\n",
    "    return x**3+x**2-1  # ex-x**3 - 5*x - 9\n",
    "# Rearrange f(x) = 0 to x = g(x)\n",
    "def g(x):\n",
    "    return 1/np.sqrt(1+x)  #(x**3 - 9) / 5\n",
    "def iterative_method(x0,tol,iter):\n",
    "    step=1\n",
    "    flag=1\n",
    "    while True:\n",
    "        x1=g(x0)\n",
    "        print(f\"the no of steps required-{step}, the root of equation {x1:.6f},the value of the root of function {f(x1):.6f} \")\n",
    "        x0=x1\n",
    "        step+=1\n",
    "        if step > iter:\n",
    "            flag=0\n",
    "            break\n",
    "        condition=abs(f(x1))<tol\n",
    "        if flag==1:\n",
    "            print(f'\\required root is {x1:.8f}')\n",
    "        else:\n",
    "            print('root not convergent ')\n",
    "x0=float(input('enter your guess number:'))\n",
    "tol=float(input('enter your tolerance:'))\n",
    "iter=int(input('enter your no of iteration'))\n",
    "iterative_method(x0,tol,iter)"
   ]
  },
  {
   "cell_type": "markdown",
   "id": "0220943d",
   "metadata": {},
   "source": [
    "## 7 legrange polynomial interpolation"
   ]
  },
  {
   "cell_type": "code",
   "execution_count": 29,
   "id": "8a0b816c",
   "metadata": {},
   "outputs": [
    {
     "name": "stdout",
     "output_type": "stream",
     "text": [
      "Lagrange interpolation at x=3: 14.0\n"
     ]
    }
   ],
   "source": [
    "# legrange polynomial\n",
    "def lagrange_interpolation(x_values, y_values, x):\n",
    "    result = 0\n",
    "    for i in range(len(y_values)):\n",
    "        term = y_values[i]\n",
    "        for j in range(len(x_values)):\n",
    "            if j != i:\n",
    "                term = term * (x - x_values[j]) / (x_values[i] - x_values[j])\n",
    "        result += term\n",
    "    return result\n",
    "# Example usage:\n",
    "x_values = [-1,1,2]\n",
    "y_values = [-6,0,6]\n",
    "x_to_interpolate = 3\n",
    "result = lagrange_interpolation(x_values, y_values, x_to_interpolate)\n",
    "print(f\"Lagrange interpolation at x={x_to_interpolate}: {result}\")"
   ]
  },
  {
   "cell_type": "markdown",
   "id": "bb23e16c",
   "metadata": {},
   "source": [
    "## 8 trapizodal method interpolation"
   ]
  },
  {
   "cell_type": "code",
   "execution_count": 18,
   "id": "5ca4ddd9",
   "metadata": {},
   "outputs": [
    {
     "name": "stdout",
     "output_type": "stream",
     "text": [
      "enter your value A:0\n",
      "enter your value B:6\n",
      "enter number of sub interval:6\n",
      "the value of integration: 1.4107985813868167\n"
     ]
    }
   ],
   "source": [
    "# trapizodal method\n",
    "def f(x):\n",
    "    return 1/(1+x**2)\n",
    "a=int(input(\"enter your value A:\"))\n",
    "b=int(input(\"enter your value B:\"))\n",
    "n=int(input('enter number of sub interval:'))\n",
    "h=(b-a)/n\n",
    "k=1\n",
    "sum=0\n",
    "while(k<n):\n",
    "    t=a+k*h\n",
    "    sum=sum+f(t)\n",
    "    k=k+1\n",
    "    int_a=(h/2)*(f(a)+f(b)+2*sum)\n",
    "print(\"the value of integration is trapizodal method:\",int_a)"
   ]
  },
  {
   "cell_type": "markdown",
   "id": "efd1baed",
   "metadata": {},
   "source": [
    "## 9 simpsons 1/3 method"
   ]
  },
  {
   "cell_type": "code",
   "execution_count": 28,
   "id": "e639fa97",
   "metadata": {},
   "outputs": [
    {
     "name": "stdout",
     "output_type": "stream",
     "text": [
      "enter your value A:0\n",
      "enter your value B:6\n",
      "enter number of sub interval:6\n",
      "the value of integration is simpsons 1/3 method: 1.3661734132322367\n"
     ]
    }
   ],
   "source": [
    "# simpsons 1/3 method\n",
    "def f(x):\n",
    "    return 1/(1+x**2)\n",
    "a=int(input(\"enter your value A:\"))\n",
    "b=int(input(\"enter your value B:\"))\n",
    "n=int(input('enter number of sub interval:'))\n",
    "h=(b-a)/n\n",
    "k=1\n",
    "sum=0\n",
    "while(k<n):\n",
    "    x=a+k*h\n",
    "    if (k%2==0):\n",
    "        sum=sum+2*f(x)\n",
    "    else:\n",
    "        sum=sum+4*f(x)\n",
    "    k=k+1\n",
    "ia=(h/3)*(f(a)+f(b)+sum)\n",
    "print(\"the value of integration is simpsons 1/3 method:\",ia)"
   ]
  },
  {
   "cell_type": "code",
   "execution_count": 30,
   "id": "1f2c18f9",
   "metadata": {},
   "outputs": [
    {
     "name": "stdout",
     "output_type": "stream",
     "text": [
      "enter your value A:0\n",
      "enter your value B:6\n",
      "enter number of sub interval:6\n",
      "the value of integration is simpsons 1/3 method: 1.3661734132322367\n",
      "the value of integration is trapizodal method: 1.4107985813868167\n"
     ]
    }
   ],
   "source": [
    "#  combine trapizodal method\n",
    "# simpsons 1/3 method \n",
    "def f(x):\n",
    "    return 1/(1+x**2)\n",
    "a=int(input(\"enter your value A:\"))\n",
    "b=int(input(\"enter your value B:\"))\n",
    "n=int(input('enter number of sub interval:'))\n",
    "h=(b-a)/n\n",
    "k=1\n",
    "sum1=0\n",
    "sum2=0\n",
    "while(k<n):\n",
    "    t=a+k*h\n",
    "    sum1=sum1+f(t)\n",
    "    if(k%2==0):\n",
    "        sum2=sum2+2*f(t)\n",
    "    else:\n",
    "        sum2=sum2+4*f(t)\n",
    "    k=k+1\n",
    "int_a=(h/2)*(f(a)+f(b)+2*sum1)\n",
    "ia=(h/3)*(f(a)+f(b)+sum2)\n",
    "print(\"the value of integration is trapizodal method:\",int_a)\n",
    "print(\"the value of integration is simpsons 1/3 method:\",ia)"
   ]
  },
  {
   "cell_type": "markdown",
   "id": "8e3b43ae",
   "metadata": {},
   "source": [
    "## 10 newton difference interploation"
   ]
  },
  {
   "cell_type": "code",
   "execution_count": 23,
   "id": "0cb8d95e",
   "metadata": {},
   "outputs": [
    {
     "name": "stdout",
     "output_type": "stream",
     "text": [
      "P(1.5) = 6.776025\n"
     ]
    }
   ],
   "source": [
    "def divided_difference(x, y):\n",
    "    n = len(x)\n",
    "    F = [[0] * n for _ in range(n)]\n",
    "\n",
    "    for i in range(n):\n",
    "        F[i][0] = y[i]\n",
    "\n",
    "    for j in range(1, n):\n",
    "        for i in range(n - j):\n",
    "            F[i][j] = (F[i + 1][j - 1] - F[i][j - 1]) / (x[i + j] - x[i])\n",
    "\n",
    "    return F\n",
    "\n",
    "def newton_interpolation(x, y, target):\n",
    "    n = len(x)\n",
    "    result = y[0]\n",
    "    F = divided_difference(x, y)\n",
    "\n",
    "    for i in range(1, n):\n",
    "        term = F[0][i]\n",
    "        for j in range(i):\n",
    "            term *= (target - x[j])\n",
    "        result += term\n",
    "\n",
    "    return result\n",
    "\n",
    "# Given data\n",
    "x_values = [0, 0.5, 1, 2]\n",
    "y_values = [1, 1.8987, 3.7183, 11.3891]\n",
    "\n",
    "# Target value\n",
    "target_value = 1.5\n",
    "\n",
    "# Calculate interpolation\n",
    "result = newton_interpolation(x_values, y_values, target_value)\n",
    "print(f\"P(1.5) = {result}\")\n"
   ]
  },
  {
   "cell_type": "markdown",
   "id": "147f81de",
   "metadata": {},
   "source": [
    "## 12 differentation method "
   ]
  },
  {
   "cell_type": "code",
   "execution_count": 1,
   "id": "76503535",
   "metadata": {},
   "outputs": [
    {
     "name": "stdout",
     "output_type": "stream",
     "text": [
      "Second Point First Differentiation:\n",
      "Forward Difference: 4.100000000000001\n",
      "Backward Difference: 3.9000000000000012\n",
      "Central Difference: 4.000000000000001\n",
      "\n",
      "Second Point Second Differentiation:\n",
      "Forward Difference: 2.0000000000000013\n",
      "Backward Difference: 2.0000000000000013\n",
      "Central Difference: 2.0000000000000013\n"
     ]
    }
   ],
   "source": [
    "# Second point differentiation formula\n",
    "def f(x):\n",
    "    return x**2\n",
    "\n",
    "def forward_difference2(f, x, h):\n",
    "    return (f(x + h) - f(x)) / h\n",
    "\n",
    "def backward_difference2(f, x, h):\n",
    "    return (f(x) - f(x - h)) / h\n",
    "\n",
    "def central_difference2(f, x, h):\n",
    "    return (f(x + h) - f(x - h)) / (2 * h)\n",
    "\n",
    "result1 = forward_difference2(f, 2, 0.1)\n",
    "result2 = backward_difference2(f, 2, 0.1)\n",
    "result3 = central_difference2(f, 2, 0.1)\n",
    "print(\"Second Point First Differentiation:\")\n",
    "print(\"Forward Difference:\", result1)\n",
    "print(\"Backward Difference:\", result2)\n",
    "print(\"Central Difference:\", result3)\n",
    "\n",
    "# Second point second differentiation formula\n",
    "def forward_difference2_2(f, x, h):\n",
    "    return (f(x + h) - 2*f(x) + f(x - h)) / (h**2)\n",
    "\n",
    "def backward_difference2_2(f, x, h):\n",
    "    return (f(x + h) - 2*f(x) + f(x - h)) / (h**2)\n",
    "\n",
    "def central_difference2_2(f, x, h):\n",
    "    return (f(x + h) - 2*f(x) + f(x - h)) / (h**2)\n",
    "\n",
    "result1 = forward_difference2_2(f, 2, 0.1)\n",
    "result2 = backward_difference2_2(f, 2, 0.1)\n",
    "result3 = central_difference2_2(f, 2, 0.1)\n",
    "print(\"\\nSecond Point Second Differentiation:\")\n",
    "print(\"Forward Difference:\", result1)\n",
    "print(\"Backward Difference:\", result2)\n",
    "print(\"Central Difference:\", result3)"
   ]
  },
  {
   "cell_type": "code",
   "execution_count": null,
   "id": "76adf48b",
   "metadata": {},
   "outputs": [],
   "source": []
  }
 ],
 "metadata": {
  "kernelspec": {
   "display_name": "Python 3 (ipykernel)",
   "language": "python",
   "name": "python3"
  },
  "language_info": {
   "codemirror_mode": {
    "name": "ipython",
    "version": 3
   },
   "file_extension": ".py",
   "mimetype": "text/x-python",
   "name": "python",
   "nbconvert_exporter": "python",
   "pygments_lexer": "ipython3",
   "version": "3.10.12"
  }
 },
 "nbformat": 4,
 "nbformat_minor": 5
}
